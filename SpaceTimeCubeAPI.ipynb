{
 "metadata": {
  "name": "SpaceTimeCubeAPI"
 },
 "nbformat": 3,
 "nbformat_minor": 0,
 "worksheets": [
  {
   "cells": [
    {
     "cell_type": "heading",
     "level": 1,
     "metadata": {},
     "source": "Space Time Cube API"
    },
    {
     "cell_type": "code",
     "collapsed": false,
     "input": "import numpy as NUM\nimport SSDataObject as SSDO\nfrom netCDF4 import Dataset\n",
     "language": "python",
     "metadata": {},
     "outputs": []
    },
    {
     "cell_type": "heading",
     "level": 2,
     "metadata": {},
     "source": "Create the Space Time Cube"
    },
    {
     "cell_type": "heading",
     "level": 5,
     "metadata": {},
     "source": "Give me the cell size, Get a Space Time Cube"
    },
    {
     "cell_type": "code",
     "collapsed": false,
     "input": "class CubeObject(object):\n    def __init__(self, ssdo, inputTimeField, cell_size_xy = 1000, cell_size_t = 30):\n        self.ssdo = ssdo\n        self.dataset = ssdo.inputFC\n        self.timeField = inputTimeField\n        self.cellSize_xy = cell_size_xy\n        self.cellSize_t = cell_size_t\n\n        self.extent = ssdo.extent\n        self.spatialRef = ssdo.spatialRefName\n        self.info = ssdo.info\n\n    def basicScale(self):\n        return self.createCube(self.cellSize_xy)\n\n    def detailScale(self):\n        cellSize_xy =  round (self.cellSize_xy / 2)\n        return self.createCube(cellSize_xy)\n\n    def coarseScale(self):\n        cellSize_xy = (self.cellSize_xy * 2)\n        return self.createCube(cellSize_xy)\n\n    def createCube(self, cellSize_xy):\n        cellNumber_x = round((self.extent.XMax - self.extent.XMin) / cellSize_xy)\n        cellNumber_y = round((self.extent.YMax - self.extent.YMin) / cellSize_xy)\n        X = self.ssdo.xyCoords[:,0]\n        Y = self.ssdo.xyCoords[:,1]\n        time = self.ssdo.fields[self.timeField].data\n        time = NUM.array([i for i in time], NUM.datetime64)\n        startDateTime = NUM.datetime64('1970-01-01 00:00:00')\n        T = time - startDateTime\n        self.startTime = NUM.amin(T) + NUM.datetime64('1970-01-01 00:00:00')\n        T = NUM.array([i.item().days for i in T], int)\n        startT = NUM.amin(T)\n        endT = NUM.amax(T)\n        cellNumber_t = round((endT - startT) / self.cellSize_t) + 1\n        X = (X - self.extent.XMin) / self.cellSize_xy\n        Y = (self.extent.YMax - Y) / self.cellSize_xy\n        T = (T - startT) / self.cellSize_t\n        X = NUM.floor(X)\n        Y = NUM.floor(Y)\n        T = NUM.floor(T)\n        CellIdList = (cellNumber_x * cellNumber_y * T) + (cellNumber_x * Y) + X\n        BothEnds = NUM.array([0, (cellNumber_t * cellNumber_x * cellNumber_y -1)])\n        CellIdList = NUM.concatenate((CellIdList, BothEnds), axis=0)\n        CellIdList = NUM.array(CellIdList, dtype = 'int32')\n        counts = NUM.bincount(CellIdList)\n        counts[BothEnds[0]] = counts[BothEnds[0]] - 1\n        counts[BothEnds[1]] = counts[BothEnds[1]] - 1\n        return counts.reshape(cellNumber_t, cellNumber_x, cellNumber_y)",
     "language": "python",
     "metadata": {},
     "outputs": []
    },
    {
     "cell_type": "raw",
     "metadata": {},
     "source": "Requirements:\n1. point data\n2. time field\n3. output is NetCDF4 database"
    },
    {
     "cell_type": "heading",
     "level": 5,
     "metadata": {},
     "source": "Space Time Cube is stored in NetCDF4 database"
    },
    {
     "cell_type": "code",
     "collapsed": false,
     "input": "outputFC = 'C:/Data/SPAC/crime.nc'\noutputDataset = Dataset(outputFC, 'w', format = 'NETCDF4')",
     "language": "python",
     "metadata": {},
     "outputs": []
    },
    {
     "cell_type": "raw",
     "metadata": {},
     "source": "Why NetCDF4?\n\n1. support multidimensional\n2. fast computation\n3. easy to obtain data and extend the database\n4. archive old data"
    },
    {
     "cell_type": "code",
     "collapsed": false,
     "input": "inputFC = 'C:/Data/SPAC/crime.shp'\ninputTimeField = 'DATE1'\nssdo = SSDO.SSDataObject(inputFC)\nssdo.obtainData(ssdo.oidName, [inputTimeField], dateStr = True)\ncube1 = CubeObject(ssdo, inputTimeField, 1000, 30)\nbasic = cube1.basicScale()",
     "language": "python",
     "metadata": {},
     "outputs": []
    },
    {
     "cell_type": "raw",
     "metadata": {},
     "source": "Three scales in cube API\n1. basic scale as user defined\n2. detailed scale: half cell size\n3. course scale: double cell size"
    },
    {
     "cell_type": "raw",
     "metadata": {},
     "source": "Specify NetCDF details\n\nNeed to honor Climate and Forecast (CF) conventions\n1. Create dimensions and global attributes (projections...)\n2. Create variables to store the cube\n\nex: Time variables"
    },
    {
     "cell_type": "code",
     "collapsed": false,
     "input": "# Create netCDF4 dimensions and global attributes\noutputDataset.createDimension('time', basic.shape[0])\noutputDataset.createDimension('x', basic.shape[1])\noutputDataset.createDimension('y', basic.shape[2])\n\n\n# Create netCDF4 variables and attributes\ntime = outputDataset.createVariable('time','f8',('time'))\nlat = outputDataset.createVariable('lat','f4', ('y','x'))\nlon = outputDataset.createVariable('lon','f4', ('y','x'))\ncrime = outputDataset.createVariable('crime','f4',('time','y','x',))\n\nprojection = outputDataset.createVariable('transverse_mercator','i4')\nxCoordinate = outputDataset.createVariable('X_Coordina','i4',('y','x'))\nyCoordinate = outputDataset.createVariable('Y_Coordina','i4',('y','x'))\nx = outputDataset.createVariable('x','f4',('x'))\ny = outputDataset.createVariable('y','f4', ('y'))\ntimeInterval = 60* 60* 24\n\ntime.long_name = 'time'\ntime.standard_name = 'time'\ntime.units = `timeInterval` + 'seconds since'+ `cube1.startTime`\ntime.calendar = 'gregorian'\ntime._ChunkSize = cube1.cellSize_t\ntime._CoordinateAxisType = 'Time'\n##\nlat.long_name = 'Latitude'\nlat.standard_name = 'Latitude'\nlat.coordinates = 'x y'\nlat.esri_pe_string = 'PROJCS[\\\"NAD_1983_StatePlane_Illinois_East_FIPS_1201\\\",GEOGCS[\\\"GCS_North_American_1983\\\",DATUM[\\\"D_North_American_1983\\\",SPHEROID[\\\"GRS_1980\\\",6378137.0,298.257222101]],PRIMEM[\\\"Greenwich\\\",0.0],UNIT[\\\"Degree\\\",0.0174532925199433]],PROJECTION[\\\"Transverse_Mercator\\\"],PARAMETER[\\\"False_Easting\\\",300000.0],PARAMETER[\\\"False_Northing\\\",0.0],PARAMETER[\\\"Central_Meridian\\\",-88.33333333333333],PARAMETER[\\\"Scale_Factor\\\",0.999975],PARAMETER[\\\"Latitude_Of_Origin\\\",36.66666666666666],UNIT[\\\"Meter\\\",1.0]]'\nlat.grid_mapping = 'transverse_mercator'\n##\nlon.long_name = 'Longitude'\nlon.standard_name = 'Longitude'\nlon.coordinates = 'x y'\nlon.esri_pe_string = 'PROJCS[\\\"NAD_1983_StatePlane_Illinois_East_FIPS_1201\\\",GEOGCS[\\\"GCS_North_American_1983\\\",DATUM[\\\"D_North_American_1983\\\",SPHEROID[\\\"GRS_1980\\\",6378137.0,298.257222101]],PRIMEM[\\\"Greenwich\\\",0.0],UNIT[\\\"Degree\\\",0.0174532925199433]],PROJECTION[\\\"Transverse_Mercator\\\"],PARAMETER[\\\"False_Easting\\\",300000.0],PARAMETER[\\\"False_Northing\\\",0.0],PARAMETER[\\\"Central_Meridian\\\",-88.33333333333333],PARAMETER[\\\"Scale_Factor\\\",0.999975],PARAMETER[\\\"Latitude_Of_Origin\\\",36.66666666666666],UNIT[\\\"Meter\\\",1.0]]'\nlon.grid_mapping = 'transverse_mercator'\n##\ncrime.long_name = 'crime'\ncrime.standard_name = 'crime'\ncrime.coordinates = 'time x y'\ncrime.missing_value = -9999.\ncrime._ChunkSize = cube1.cellSize_t, cube1.cellSize_xy, cube1.cellSize_xy\n\nprojection.grid_mapping_name = 'transverse_mercator'\nprojection.longitude_of_central_meridian = -88.33333333333333\nprojection.latitude_of_projection_origin = 36.66666666666666\nprojection.scale_factor_at_central_meridian = 0.999975\nprojection.false_easting = 300000.0\nprojection.false_northing = 0.0\nprojection._CoordinateTransformType = 'Projection'\nprojection._CoordinateAxisTypes = 'GeoX GeoY'\n\nxCoordinate.long_name = 'X_Coordina'\nxCoordinate.standard_name = 'X_Coordina'\nxCoordinate.coordinates = 'x y'\nxCoordinate.esri_pe_string = 'PROJCS[\\\"NAD_1983_StatePlane_Illinois_East_FIPS_1201\\\",GEOGCS[\\\"GCS_North_American_1983\\\",DATUM[\\\"D_North_American_1983\\\",SPHEROID[\\\"GRS_1980\\\",6378137.0,298.257222101]],PRIMEM[\\\"Greenwich\\\",0.0],UNIT[\\\"Degree\\\",0.0174532925199433]],PROJECTION[\\\"Transverse_Mercator\\\"],PARAMETER[\\\"False_Easting\\\",300000.0],PARAMETER[\\\"False_Northing\\\",0.0],PARAMETER[\\\"Central_Meridian\\\",-88.33333333333333],PARAMETER[\\\"Scale_Factor\\\",0.999975],PARAMETER[\\\"Latitude_Of_Origin\\\",36.66666666666666],UNIT[\\\"Meter\\\",1.0]]'\nxCoordinate = 'transverse_mercator'\n\nyCoordinate.long_name = 'Y_Coordina'\nyCoordinate.standard_name = 'Y_Coordina'\nyCoordinate.coordinates = 'x y'\nyCoordinate.esri_pe_string = 'PROJCS[\\\"NAD_1983_StatePlane_Illinois_East_FIPS_1201\\\",GEOGCS[\\\"GCS_North_American_1983\\\",DATUM[\\\"D_North_American_1983\\\",SPHEROID[\\\"GRS_1980\\\",6378137.0,298.257222101]],PRIMEM[\\\"Greenwich\\\",0.0],UNIT[\\\"Degree\\\",0.0174532925199433]],PROJECTION[\\\"Transverse_Mercator\\\"],PARAMETER[\\\"False_Easting\\\",300000.0],PARAMETER[\\\"False_Northing\\\",0.0],PARAMETER[\\\"Central_Meridian\\\",-88.33333333333333],PARAMETER[\\\"Scale_Factor\\\",0.999975],PARAMETER[\\\"Latitude_Of_Origin\\\",36.66666666666666],UNIT[\\\"Meter\\\",1.0]]'\nyCoordinate = 'transverse_mercator'\n\nx.long_name = 'x coordinate of projection'\nx.standard_name = 'projection_x_coordinate'\nx.grid_mapping = 'transverse_mercator'\nx._CoordinateAxisType = 'GeoX'\n\ny.long_name = 'y coordinate of projection'\ny.standard_name = 'projection_y_coordinate'\ny.grid_mapping = 'transverse_mercator'\ny._CoordinateAxisType = 'GeoY'",
     "language": "python",
     "metadata": {},
     "outputs": []
    },
    {
     "cell_type": "heading",
     "level": 5,
     "metadata": {},
     "source": "Cube is Almost Done!"
    },
    {
     "cell_type": "code",
     "collapsed": false,
     "input": "time[:] = NUM.arange(1, basic.shape[0] * cube1.cellSize_t, cube1.cellSize_t)\nx[:] = NUM.arange(cube1.extent.XMin, cube1.extent.XMax, cube1.cellSize_xy)\ny[:] = NUM.arange(cube1.extent.YMax, cube1.extent.YMin, -cube1.cellSize_xy)\ncrime[:] = basic\n\noutputDataset.close()",
     "language": "python",
     "metadata": {},
     "outputs": []
    },
    {
     "cell_type": "heading",
     "level": 2,
     "metadata": {},
     "source": "Do the Stats!"
    },
    {
     "cell_type": "raw",
     "metadata": {},
     "source": "To answer those questions, we need some functions"
    },
    {
     "cell_type": "code",
     "collapsed": false,
     "input": "class netCube(object):\n    def __init__(self, dataset, variable, time=[0], lat=[0], lon=[0]):\n        self.dataset = dataset\n        self.variable = variable\n\n    # Return the whole dataset\n    def whole(self):\n        return NUM.array(self.dataset.variables[self.variable], dtype = 'f')\n\n    # Extract one or more time-slice(Grid), retun a 3D numpy array\n    def timeSlice(self, time):\n        try:\n            start_time, end_time = time[0], time[-1] + 1\n        except:\n            start_time, end_time = time, time + 1\n\n        return NUM.array(self.dataset.variables[self.variable], dtype = 'f')[start_time:end_time, :, :]\n\n    # Extract one or more rows, retun a 3D numpy array\n    def row(self, lat):\n        try:\n            start_lat, end_lat = lat[0], lat[-1] + 1\n        except:\n            start_lat, end_lat = lat, lat + 1\n\n        return NUM.array(self.dataset.variables[self.variable], dtype = 'f')[:, start_lat:end_lat, :]\n\n    # Extract one or more columns, retun a 3D numpy array\n    def col(self, lon):\n        try:\n            start_lon, end_lon = lon[0], lon[-1] + 1\n        except:\n            start_lon, end_lon = lon, lon + 1\n\n        return NUM.array(self.dataset.variables[self.variable], dtype = 'f')[:, :, start_lon:end_lon]\n\n    # Extract one cell from a series of time, return a 3D numpy array\n    def timeSeries(self, lat, lon):\n        try:\n            start_lat, end_lat = lat[0], lat[-1] + 1\n        except:\n            start_lat, end_lat = lat, lat + 1\n        try:\n            start_lon, end_lon = lon[0], lon[-1] + 1\n        except:\n            start_lon, end_lon = lon, lon + 1\n\n        return NUM.array(self.dataset.variables[self.variable], dtype = 'f')[:, start_lat:end_lat, start_lon:end_lon]\n\n\n    # Extract space-time cube, return a 3D numpy array\n    def timeCube(self, time, lat, lon):\n        try:\n            start_lat, end_lat = lat[0], lat[-1] + 1\n        except:\n            start_lat, end_lat = lat, lat + 1\n        try:\n            start_lon, end_lon = lon[0], lon[-1] + 1\n        except:\n            start_lon, end_lon = lon, lon + 1\n\n        return NUM.array(self.dataset.variables[self.variable], dtype = 'f')[time, start_lat:end_lat, start_lon:end_lon]\n\n    def GridToId(self, time, lat, lon):\n        t_dim, lat_dim, lon_dim = self.dataset.variables[self.variable].shape\n        IDs = []\n        try:\n            num_of_time = len(time)\n            t = time\n        except:\n            num_of_time = 1\n            t = []\n            t.append(time)\n        try:\n            num_of_row = len(lat)\n            n = lat\n        except:\n            num_of_row = 1\n            n =[]\n            n.append(lat)\n        try:\n            num_of_col = len(lon)\n            k = lon\n        except:\n            num_of_col = 1\n            k =[]\n            k.append(lon)\n\n        for i1 in range(num_of_time):\n            for i2 in range(num_of_row):\n                for i3 in range(num_of_col):\n                    IDs.append (t[i1] *lat_dim *lon_dim + n[i2] *lon_dim + k[i3])\n        return IDs\n\n    def IdToGrid(self, id):\n        t_dim, lat_dim, lon_dim = self.dataset.variables[self.variable].shape\n        try:\n            if len(id) >= 1:\n                IDs = NUM.array(id)\n                time = (IDs / (lat_dim *lon_dim))\n                lat = (IDs % (lat_dim *lon_dim)) / lon_dim\n                lon = ((IDs % (lat_dim *lon_dim)) % lon_dim)\n            return NUM.unique(time), NUM.unique(lat), NUM.unique(lon)\n        except:\n            time = int(id / (lat_dim *lon_dim))\n            lat = int((id % (lat_dim *lon_dim)) / lon_dim)\n            lon = int((id % (lat_dim *lon_dim)) % lon_dim)\n            return time, lat, lon\n\n    def neighborByCellInfo(self, time, lat, lon, t_lag = 1,s_lag = 1):\n        t_dim, lat_dim, lon_dim = self.dataset.variables[self.variable].shape\n        start_time = time - t_lag\n        end_time = time + t_lag\n        start_lat = lat - s_lag\n        end_lat = lat + s_lag\n        start_lon = lon - s_lag\n        end_lon = lon + s_lag\n        if start_time < 0:\n            start_time = 0\n        if end_time >= t_dim:\n            end_time = (t_dim-  1)\n\n        if start_lat < 0:\n            start_lat = 0\n        if end_lat >= lat_dim:\n            end_lat = (lat_dim - 1)\n\n        if start_lon < 0:\n            start_lon = 0\n        if end_lon >= lon_dim:\n            end_lon = (lon_dim - 1)\n        return range(start_time, end_time+1), range(start_lat, end_lat+1), range(start_lon, end_lon+1)\n\n    def neighborByID(self, id, t_lag = 1, s_lag = 1):\n        time, lat, lon = self.IdToGrid(id)\n        t, row, col = self.neighborByCellInfo(time, lat, lon, t_lag, s_lag)\n        return self.GridToId(t,row,col)\n\n    def getNeighborValuesByID(self, id, t_lag = 1, s_lag = 1):\n        time, lat, lon = self.IdToGrid(id)\n        t, row, col = self.neighborByCellInfo(time, lat, lon, t_lag, s_lag)\n        return self.timeCube(t, row, col)\n\n    def getNeighborValuesByCellInfo(self, time, lat, lon, t_lag = 1, s_lag = 1):\n        t, row, col = self.neighborByCellInfo(time, lat, lon, t_lag, s_lag)\n        return self.timeCube(t, row, col)\n\n    def spatialLagByID(self, id):\n        neighbor = self.getNeighborValuesByID(id, 0, 1)\n        return (NUM.sum(neighbor) - NUM.sum(self.getNeighborValuesByID(id, 0, 0)))/(neighbor.size)\n\n    def spatialLagByCellInfo(self, time, lat, lon):\n        return self.spatialLagByID(self.GridToId(time, lat, lon))\n\n    def sumByTime(self, Array):\n        not_null = Array > -9999.\n        Array[not_null == False] = 0.\n        result = Array.sum(1).sum(1)\n        Array[not_null == False] = -9999.\n        return result\n\n    def meanByTime(self, Array):\n        not_null = Array > -9999.\n        temp = self.sumByTime(Array)\n        return (temp / not_null.sum(1).sum(1))\n\n    def stdByTime(self, Array):\n        not_null = Array > -9999.\n        Array[not_null == False] = NUM.repeat(self.meanByTime(Array),((not_null == False).sum(1).sum(1)))\n        result = Array.std(1).std(1)\n        Array[not_null == False] = -9999.\n        return result\n\n    def zByTime(self, Array):\n        not_null = Array > -9999.\n        temp = NUM.array(Array)\n        temp[not_null] = (Array[not_null] - NUM.repeat(self.meanByTime(Array), not_null.sum(1).sum(1))) / NUM.repeat(self.stdByTime(Array), not_null.sum(1).sum(1))\n        return temp\n",
     "language": "python",
     "metadata": {},
     "outputs": []
    },
    {
     "cell_type": "heading",
     "level": 5,
     "metadata": {},
     "source": "Read the Cube stored in NetCDF4 database"
    },
    {
     "cell_type": "code",
     "collapsed": false,
     "input": "inputFC = 'C:/Data/SPAC/crime.nc'\ninputDataset = Dataset(inputFC, 'a')\ninputVariable = \"crime\"\ncrime = inputDataset.variables['crime']\nnc1 = netCube(inputDataset, inputVariable)",
     "language": "python",
     "metadata": {},
     "outputs": []
    },
    {
     "cell_type": "heading",
     "level": 3,
     "metadata": {},
     "source": "Functions in the cube"
    },
    {
     "cell_type": "heading",
     "level": 6,
     "metadata": {},
     "source": "Extraction data"
    },
    {
     "cell_type": "raw",
     "metadata": {},
     "source": "I\u3000want to...\n\nhave an overview of the whole data\nknow the spatial distribution over time\nknow the change in certain locations"
    },
    {
     "cell_type": "code",
     "collapsed": false,
     "input": "print 'Whole dataset shape:\\n', nc1.whole().shape\nprint '1 time slice:\\n', nc1.timeSlice(3)\nprint '2 rows over time shape:\\n', nc1.row([1,2]).shape\nprint '5 columns over time shape:\\n', nc1.col([1,2,3,4,5]).shape\nprint '4 cells over time:\\n', nc1.timeSeries([33,34],[55,56])",
     "language": "python",
     "metadata": {},
     "outputs": []
    },
    {
     "cell_type": "heading",
     "level": 5,
     "metadata": {},
     "source": "Neighbor functions"
    },
    {
     "cell_type": "raw",
     "metadata": {},
     "source": "I want to..\n\ngroup the elements\nknow the average of the surrounding area\nconstruct the weight by the neighbors"
    },
    {
     "cell_type": "code",
     "collapsed": false,
     "input": "print 'cell (3,58,120) to ID:\\n', nc1.GridToId(3,58,120)\nprint 'Neighbors of Grid(3,58,120) are\\n', nc1.neighborByCellInfo(3,58,120)\nprint 'Neighbor values of Grid(3,58,120) is \\n', nc1.getNeighborValuesByCellInfo(3,58,120)\nprint 'Spatial lags of ID 117640 is \\n', nc1.spatialLagByID(117640)\nprint 'Spatial lags of Grid(3,58,120) is \\n', nc1.spatialLagByCellInfo(3,58,120)",
     "language": "python",
     "metadata": {},
     "outputs": []
    },
    {
     "cell_type": "heading",
     "level": 5,
     "metadata": {},
     "source": "Simple Stats"
    },
    {
     "cell_type": "raw",
     "metadata": {},
     "source": "I want to..\n\nknow how different is between two time periods\nscale it"
    },
    {
     "cell_type": "code",
     "collapsed": false,
     "input": "print 'Sum of Time Slice 5 are \\n', nc1.sumByTime(nc1.timeSlice(5))\nprint 'Standard deviation of whole dataset are \\n', nc1.stdByTime(nc1.whole())\nprint 'Z scores of Time Slice 5 are \\n', nc1.zByTime(nc1.timeSlice(5))\n",
     "language": "python",
     "metadata": {},
     "outputs": []
    },
    {
     "cell_type": "heading",
     "level": 3,
     "metadata": {},
     "source": "Hot Spot"
    },
    {
     "cell_type": "raw",
     "metadata": {},
     "source": "I want to...\n\nknow where and when is the hot spots and cold spots\nfind out the trajectories (does the crime moves?)\nsurveillence the crime incidents"
    },
    {
     "cell_type": "code",
     "collapsed": false,
     "input": "import hotspot_grid as HOTSPOT\n\nHotspot = inputDataset.createVariable('Hotspot','f4',('time','y','x',))\n# Variable 'Hot Spot'\nHotspot.long_name = 'Hotspot'\nHotspot.standard_name = 'Hotspot'\nHotspot.coordinates = 'time x y'\nHotspot.units = 'meters'\nHotspot.missing_value = -9999.\nHotspot._ChunkSize = cube1.cellSize_t, cube1.cellSize_xy, cube1.cellSize_xy\n\nnumTime, numRows, numCols = nc1.whole().shape\nfor time in xrange(numTime):\n    cellValues = nc1.timeSlice(time).flatten()\n    gi, pv = HOTSPOT.hotspotGrid(cellValues, numRows, numCols)\n    Hotspot[time,:,:] = gi.reshape(numRows, numCols)\n\ninputDataset.close()",
     "language": "python",
     "metadata": {},
     "outputs": []
    },
    {
     "cell_type": "raw",
     "metadata": {},
     "source": ""
    },
    {
     "cell_type": "code",
     "collapsed": false,
     "input": "",
     "language": "python",
     "metadata": {},
     "outputs": []
    }
   ],
   "metadata": {}
  }
 ]
}